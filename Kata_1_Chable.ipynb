{
 "cells": [
  {
   "cell_type": "code",
   "execution_count": 1,
   "metadata": {},
   "outputs": [
    {
     "name": "stdout",
     "output_type": "stream",
     "text": [
      "Today's date is: 2022-02-07\n"
     ]
    }
   ],
   "source": [
    "# Impresión de la fecha\n",
    "\n",
    "from datetime import date\n",
    "print(f\"Today's date is: {date.today()}\")"
   ]
  },
  {
   "cell_type": "code",
   "execution_count": 6,
   "metadata": {},
   "outputs": [
    {
     "name": "stdout",
     "output_type": "stream",
     "text": [
      "11.0 parsec, is 35.877159999999996 lightyears\n"
     ]
    }
   ],
   "source": [
    "# Conversor de unidades\n",
    "parsec = float(11)\n",
    "lightyears = float(3.26156) * parsec\n",
    "\n",
    "print(f\"{parsec} parsec, is {lightyears} lightyears\")"
   ]
  }
 ],
 "metadata": {
  "interpreter": {
   "hash": "640cd0da8c1fa18414d5aeb971eb1f46821a8856d47445a9aebce47db5bc777c"
  },
  "kernelspec": {
   "display_name": "Python 3.10.2 64-bit",
   "language": "python",
   "name": "python3"
  },
  "language_info": {
   "codemirror_mode": {
    "name": "ipython",
    "version": 3
   },
   "file_extension": ".py",
   "mimetype": "text/x-python",
   "name": "python",
   "nbconvert_exporter": "python",
   "pygments_lexer": "ipython3",
   "version": "3.9.7"
  },
  "orig_nbformat": 4
 },
 "nbformat": 4,
 "nbformat_minor": 2
}
