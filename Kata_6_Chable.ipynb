{
 "cells": [
  {
   "cell_type": "code",
   "execution_count": 2,
   "metadata": {},
   "outputs": [
    {
     "name": "stdout",
     "output_type": "stream",
     "text": [
      "['Mercurio', 'Venus', 'Tierra', 'Marte', 'Jupiter', 'Saturno', 'Urano', 'Neptuno', 'Pluton']\n"
     ]
    }
   ],
   "source": [
    "#Ejercicio 1\n",
    "planets = ['Mercurio', 'Venus', 'Tierra', 'Marte', 'Jupiter', 'Saturno', 'Urano', 'Neptuno']\n",
    "\n",
    "planets.append('Pluton')\n",
    "print(planets)\n"
   ]
  },
  {
   "cell_type": "code",
   "execution_count": 5,
   "metadata": {},
   "outputs": [
    {
     "name": "stdout",
     "output_type": "stream",
     "text": [
      "Los planetas que son más cercanos al sol respecto a: Jupiter\n",
      "['Mercurio', 'Venus', 'Tierra', 'Marte']\n",
      "Los planetas que son más lejanos al sol respecto a: Jupiter\n",
      "['Saturno', 'Urano', 'Neptuno']\n"
     ]
    }
   ],
   "source": [
    "#Ejercicio 2\n",
    "planets = ['Mercurio', 'Venus', 'Tierra', 'Marte', 'Jupiter', 'Saturno', 'Urano', 'Neptuno']\n",
    "planextra = input('Introduce el nombre de un planeta del sistema solar:')\n",
    "\n",
    "planextra_index = planets.index(planextra)\n",
    "\n",
    "print('Los planetas que son más cercanos al sol respecto a: ' + planextra)\n",
    "print(planets[0:planextra_index])\n",
    "\n",
    "print('Los planetas que son más lejanos al sol respecto a: ' + planextra)\n",
    "print(planets[planextra_index +1:])\n"
   ]
  }
 ],
 "metadata": {
  "interpreter": {
   "hash": "3d91373a86a9ec01b9cf89a3c541713ee8f70bd40aca0af90ebf7d1eabe7f078"
  },
  "kernelspec": {
   "display_name": "Python 3.7.9 64-bit (windows store)",
   "language": "python",
   "name": "python3"
  },
  "language_info": {
   "codemirror_mode": {
    "name": "ipython",
    "version": 3
   },
   "file_extension": ".py",
   "mimetype": "text/x-python",
   "name": "python",
   "nbconvert_exporter": "python",
   "pygments_lexer": "ipython3",
   "version": "3.7.9"
  },
  "orig_nbformat": 4
 },
 "nbformat": 4,
 "nbformat_minor": 2
}
