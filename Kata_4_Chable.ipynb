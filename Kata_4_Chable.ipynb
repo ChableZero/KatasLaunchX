{
 "cells": [
  {
   "cell_type": "code",
   "execution_count": null,
   "metadata": {},
   "outputs": [],
   "source": [
    "#El texto con el que trabajarás es el siguiente:\n",
    "#text = \"\"\"Interesting facts about the Moon. The Moon is Earth's only satellite. There are several interesting facts about the Moon and how it affects life here on Earth. \n",
    "#On average, the Moon moves 4cm away from the Earth every year. This yearly drift is not significant enough to cause immediate effects on Earth. The highest daylight temperature of the Moon is 127 C.\"\"\"\n",
    "#Primero, divide el texto en cada oración para trabajar con su contenido:\n",
    "#Ahora, define algunas palabras clave para búscqueda que te ayudarán a determinar si una oración contiene un hecho.\n",
    "#Cree un bucle para imprimir solo datos sobre la Luna que estén relacionados con las palabras clave definidas anteriormente.\n",
    "#Finalmente, actualiza el bucle(ciclo) para cambiar C a Celcius.\n",
    "\n"
   ]
  },
  {
   "cell_type": "code",
   "execution_count": 14,
   "metadata": {},
   "outputs": [
    {
     "name": "stdout",
     "output_type": "stream",
     "text": [
      " \n",
      "On average, the Moon moves 4cm away from the Earth every year\n",
      " This yearly drift is not significant enough to cause immediate effects on Earth\n",
      " The highest daylight temperature of the Moon is 127 C\n",
      " \n",
      "On average, the Moon moves 4cm away from the Earth every year\n",
      " This yearly drift is not significant enough to cause immediate effects on Earth\n",
      " The highest daylight temperature of the Moon is 127 Celcius\n"
     ]
    }
   ],
   "source": [
    "text = \"\"\"Interesting facts about the Moon. The Moon is Earth's only satellite. There are several interesting facts about the Moon and how it affects life here on Earth. \n",
    "On average, the Moon moves 4cm away from the Earth every year. This yearly drift is not significant enough to cause immediate effects on Earth. The highest daylight temperature of the Moon is 127 C.\"\"\"\n",
    "\n",
    "textPart = text.split(\".\")\n",
    "textPart\n",
    "\n",
    "#print(textPart)\n",
    "\n",
    "keyWords = ('moves', 'effects', 'temperature')\n",
    "for separate in textPart:\n",
    "    for keyWord in keyWords:\n",
    "        if keyWord in separate:\n",
    "            print(separate)\n",
    "            break\n",
    "\n",
    "for separate in textPart:\n",
    "    for keyWord in keyWords:\n",
    "        if keyWord in separate:\n",
    "            print(separate.replace('C', 'Celcius'))\n",
    "            break\n",
    "\n"
   ]
  },
  {
   "cell_type": "code",
   "execution_count": null,
   "metadata": {},
   "outputs": [],
   "source": [
    "\"\"\"\n",
    "Formateando cadenas\n",
    "En lugar de reemplazar las variables en una cadena larga como parte de un párrafo, utiliza la información para presentarla en un formato tabular.\n",
    "# Datos con los que vas a trabajar\n",
    "name = \"Moon\"\n",
    "gravity = 0.00162 #in Kms\n",
    "planet = \"Earth\"\n",
    "\n",
    "Primero, crea un título para el texto. Debido a que ese tecto trata sobre la gravedad en la Tierra y la Luna, úsalo para crear un título significativo. Utiliza las variables en lugar de escribir.\n",
    "\n",
    "Ahora crea una plantilla de cadena multilínea para contener el resto de la información. En lugar de usar kilómetro, debes copnvertir la distancia a metro multiplicando por 1,000\n",
    "\n",
    "Finalmente, usa ambas variables para unir el título y los hechos\n",
    "Ahora usa información de una luna diferente para ver si la pantalla todavía funciona:\n",
    "\n",
    "planeta = 'Marte'\n",
    "gravedad = 0.00143\n",
    "nombre = 'Ganímedes'\n",
    "\n",
    "La salida no muestra información sobre Marte. Todavía muestra información sobre la Luna. Esto sucede porque las cadenas f están ansiosas en su evaluación, por lo que las variables una vbez asignadas, no se pueden reasignar. Para evitar este problema, vuelva a hacer la plantilla para utilizar .format():\n",
    "\n",
    "Debido a que .format() no permite expresiones, la gravedad en Ganímedes es incorrecta. Asegúrese de que la operación se realiza fuera de la plantilla de formato e imprima de nuevo para ver el resultado de trabajo\n",
    "\n",
    "\"\"\""
   ]
  },
  {
   "cell_type": "code",
   "execution_count": 15,
   "metadata": {},
   "outputs": [
    {
     "name": "stdout",
     "output_type": "stream",
     "text": [
      "Gravity information about the Moon, a Natural Satellite of Earth\n",
      " -----------------------------------\n",
      "Planet name Earth\n",
      "Gravity on Moon: 1.6199999999999999 m/s^2\n",
      "\n",
      "Gravity information about Ganymede, a natural satellite of Mars\n",
      "-----------------------------------\n",
      "Nombre del planeta: Mars\n",
      "Gravedad en Ganymede: 1.4300000000000002 m/s2\n",
      "\n"
     ]
    }
   ],
   "source": [
    "planet1 = 'Earth'\n",
    "gravity1 = 0.00162 * 1000\n",
    "name1 = 'Moon'\n",
    "\n",
    "title = (f'Gravity information about the {name1}, a Natural Satellite of {planet1}')\n",
    "\n",
    "templateMulti = f\"\"\"\\n {\"-\"*35}\n",
    "Planet name {planet1}\n",
    "Gravity on {name1}: {gravity1} m/s^2\"\"\"\n",
    "\n",
    "facts = title + templateMulti\n",
    "print (facts)\n",
    "\n",
    "planet2 = 'Mars'\n",
    "gravity2 = 0.00143 * 1000\n",
    "name2 = 'Ganymede'\n",
    "\n",
    "newTemplateMulti = \"\"\"\n",
    "Gravity information about {name1}, a natural satellite of {planet1}\n",
    "-----------------------------------\n",
    "Nombre del planeta: {planet1}\n",
    "Gravedad en {name1}: {gravity1} m/s2\n",
    "\"\"\"\n",
    "\n",
    "print(newTemplateMulti.format(name1=name2, planet1=planet2, gravity1=gravity2))"
   ]
  },
  {
   "cell_type": "code",
   "execution_count": null,
   "metadata": {},
   "outputs": [],
   "source": []
  }
 ],
 "metadata": {
  "interpreter": {
   "hash": "3d91373a86a9ec01b9cf89a3c541713ee8f70bd40aca0af90ebf7d1eabe7f078"
  },
  "kernelspec": {
   "display_name": "Python 3.7.9 64-bit (windows store)",
   "language": "python",
   "name": "python3"
  },
  "language_info": {
   "codemirror_mode": {
    "name": "ipython",
    "version": 3
   },
   "file_extension": ".py",
   "mimetype": "text/x-python",
   "name": "python",
   "nbconvert_exporter": "python",
   "pygments_lexer": "ipython3",
   "version": "3.7.9"
  },
  "orig_nbformat": 4
 },
 "nbformat": 4,
 "nbformat_minor": 2
}
