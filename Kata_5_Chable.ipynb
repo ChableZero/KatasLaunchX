{
 "cells": [
  {
   "cell_type": "code",
   "execution_count": null,
   "metadata": {},
   "outputs": [],
   "source": [
    "\"\"\"\n",
    "Exploremos como podemos crear un programa que pueda calcularla distancia entre dos planetas. Comenzaremos usando dos distancias de planetas: Tierra (149.597.870 km) y Júpiter (778.547.200)\n",
    "\n",
    "# Crear variables para almacenar las dos distancias\n",
    "# ¡Asegúrate de quitar las comas!\n",
    "\n",
    "Con los valores obtenidos, es el momento de añadir el código para realizar la operación. Restarás el primer planeta del segundo para determninar la distancia en kilómetros. A continuación, puedes convertir la distancia del kilómetro en millas multiplicándola por 0.621\n",
    "\n",
    "# Calcular la distancia entre planetas\n",
    "\n",
    "Con el código creado, ejecuta el notebook para obtener el resultado. Deberías decibir lo siguiente: \n",
    "6289949330\n",
    "390577534\"\"\""
   ]
  },
  {
   "cell_type": "code",
   "execution_count": 4,
   "metadata": {},
   "outputs": [
    {
     "name": "stdout",
     "output_type": "stream",
     "text": [
      "La distancia en kilómetros es: 628949330Km\n",
      "La distancia en millas es: 390577533.93Mi\n"
     ]
    }
   ],
   "source": [
    "Earth = 149597870\n",
    "Jupiter = 778547200\n",
    "\n",
    "DistanceBetween= Jupiter - Earth\n",
    "\n",
    "DistanceKM = str(DistanceBetween) + \"Km\"\n",
    "print (f'La distancia en kilómetros es: {DistanceKM}')\n",
    "DistanceMi = str((Jupiter-Earth) * 0.621) + \"Mi\"\n",
    "print (f'La distancia en millas es: {DistanceMi}')\n",
    "\n"
   ]
  },
  {
   "cell_type": "code",
   "execution_count": null,
   "metadata": {},
   "outputs": [],
   "source": [
    "\"\"\"\n",
    "Para crear nuestra aplicación, queremos leer la distancia del sol para dos planetas, y luego mostrar la distancia entre los planetas. Haremos esto usando input para leer los valores, int para convertir a entero y luego abs para convertir el resultado en su valor absoluto\n",
    "\n",
    "Lee los valores:\n",
    "Usando input, agrega el código para leer la distancia del sol para cada planeta, considerando dos planetas\n",
    "\n",
    "Convertir a número\n",
    "Debido a que input devuelve valores de cadena, necesitamos convertirlos en número. Para este ejemplo se usa int\n",
    "\n",
    "Realizar el cálculo y convertir a valor absoluto:\n",
    "Con los valores almacenados como números, ahora puedes agregar el código para realizar el cálculo, restando el primer planeta del segundo. Debido a que el segundo planeta podría ser un número mayor, usarás abs para convertirlo a un valor absoluto. También agregarás el código para mostrar el resultado en millas multiplicando la distancia del kilómetro por 0.621\"\"\""
   ]
  },
  {
   "cell_type": "code",
   "execution_count": 6,
   "metadata": {},
   "outputs": [
    {
     "name": "stdout",
     "output_type": "stream",
     "text": [
      "La distancia en Km entre ambos planetas es: 2644600000 kilómetros\n",
      "La distancia en Millas entre ambos planetas es de: 1642296600.0 millas\n"
     ]
    }
   ],
   "source": [
    "planet1 = input(\"Introduce la distancia al sol del primer planeta\")\n",
    "planet2= input(\"Introduce la distancia al sol para el segundo planeta\")\n",
    "\n",
    "planet1 = int(planet1)\n",
    "planet2 = int(planet2)\n",
    "\n",
    "DistanceKm = planet2 - planet1\n",
    "print(f\"La distancia en Km entre ambos planetas es: {abs(DistanceKm)} kilómetros\")\n",
    "\n",
    "DistanceMi = DistanceKm * 0.621\n",
    "print(f'La distancia en Millas entre ambos planetas es de: {abs(DistanceMi)} millas')"
   ]
  },
  {
   "cell_type": "code",
   "execution_count": null,
   "metadata": {},
   "outputs": [],
   "source": []
  }
 ],
 "metadata": {
  "interpreter": {
   "hash": "3d91373a86a9ec01b9cf89a3c541713ee8f70bd40aca0af90ebf7d1eabe7f078"
  },
  "kernelspec": {
   "display_name": "Python 3.7.9 64-bit (windows store)",
   "language": "python",
   "name": "python3"
  },
  "language_info": {
   "codemirror_mode": {
    "name": "ipython",
    "version": 3
   },
   "file_extension": ".py",
   "mimetype": "text/x-python",
   "name": "python",
   "nbconvert_exporter": "python",
   "pygments_lexer": "ipython3",
   "version": "3.7.9"
  },
  "orig_nbformat": 4
 },
 "nbformat": 4,
 "nbformat_minor": 2
}
